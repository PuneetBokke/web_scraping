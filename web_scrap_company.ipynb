{
 "cells": [
  {
   "cell_type": "code",
   "execution_count": 1,
   "id": "c46b85eb",
   "metadata": {},
   "outputs": [],
   "source": [
    "import pandas as pd\n",
    "import requests\n",
    "from bs4 import BeautifulSoup\n",
    "import numpy as np\n",
    "     "
   ]
  },
  {
   "cell_type": "code",
   "execution_count": 2,
   "id": "97691583",
   "metadata": {},
   "outputs": [],
   "source": [
    "headers={'User-Agent':'Mozilla/5.0 (Windows NT 6.3; Win 64 ; x64) Apple WeKit /537.36(KHTML , like Gecko) Chrome/80.0.3987.162 Safari/537.36'}"
   ]
  },
  {
   "cell_type": "code",
   "execution_count": 3,
   "id": "d168dd62",
   "metadata": {},
   "outputs": [],
   "source": [
    "webpage=requests.get(\"https://www.ambitionbox.com/list-of-companies?page=1\",headers=headers)"
   ]
  },
  {
   "cell_type": "code",
   "execution_count": 4,
   "id": "3217234f",
   "metadata": {},
   "outputs": [
    {
     "data": {
      "text/plain": [
       "<Response [200]>"
      ]
     },
     "execution_count": 4,
     "metadata": {},
     "output_type": "execute_result"
    }
   ],
   "source": [
    "webpage"
   ]
  },
  {
   "cell_type": "code",
   "execution_count": 5,
   "id": "4d619d89",
   "metadata": {},
   "outputs": [],
   "source": [
    "webpage=webpage.content"
   ]
  },
  {
   "cell_type": "code",
   "execution_count": 6,
   "id": "958a7fdb",
   "metadata": {},
   "outputs": [],
   "source": [
    "soup=BeautifulSoup(webpage,'lxml')"
   ]
  },
  {
   "cell_type": "code",
   "execution_count": null,
   "id": "359e0132",
   "metadata": {},
   "outputs": [],
   "source": []
  },
  {
   "cell_type": "code",
   "execution_count": 7,
   "id": "03f78703",
   "metadata": {},
   "outputs": [],
   "source": [
    "#<div class=\"companyCardWrapper__companyDetails\"><div class=\"companyCardWrapper__companyLogo\"><img src=\"https://static.ambitionbox.com/assets/v2/images/rs:fit:200:200:false:false/bG9jYWw6Ly8vbG9nb3Mvb3JpZ2luYWxzL3Rjcy5qcGc.webp\" loading=\"lazy\" alt=\"Tata Consultancy Services logo\" onerror=\"this.onerror=null;this.src='/static/icons/company-placeholder.svg';\" width=\"50\" height=\"50\"></div> <div class=\"companyCardWrapper__metaInformation\"><div class=\"companyCardWrapper__header\"><div class=\"companyCardWrapper__companyPrimaryDetails\"><div class=\"companyCardWrapper__companyPrimaryDetailsTopSection\"><a href=\"/overview/tcs-overview\" class=\"companyCardWrapper__companyName companyCardWrapper__companyName--m8\"><h2 title=\"TCS\" class=\"companyCardWrapper__companyName\">\n",
    "\n",
    "company=soup.find_all('div',class_=\"companyCardWrapper__companyDetails\")\n"
   ]
  },
  {
   "cell_type": "code",
   "execution_count": 8,
   "id": "76c27999",
   "metadata": {},
   "outputs": [
    {
     "data": {
      "text/plain": [
       "20"
      ]
     },
     "execution_count": 8,
     "metadata": {},
     "output_type": "execute_result"
    }
   ],
   "source": [
    "len(company)"
   ]
  },
  {
   "cell_type": "code",
   "execution_count": 9,
   "id": "b4962058",
   "metadata": {},
   "outputs": [],
   "source": [
    "name=[]\n",
    "\n",
    "for i in company:\n",
    "    b=i.find('h2').text.strip()\n",
    "    name.append(b)\n",
    "    "
   ]
  },
  {
   "cell_type": "code",
   "execution_count": 10,
   "id": "bf8cdba5",
   "metadata": {},
   "outputs": [
    {
     "data": {
      "text/plain": [
       "['TCS',\n",
       " 'Accenture',\n",
       " 'Cognizant',\n",
       " 'Wipro',\n",
       " 'HDFC Bank',\n",
       " 'ICICI Bank',\n",
       " 'Infosys',\n",
       " 'Capgemini',\n",
       " 'HCLTech',\n",
       " 'Tech Mahindra',\n",
       " 'Genpact',\n",
       " 'Axis Bank',\n",
       " 'Concentrix Corporation',\n",
       " 'Amazon',\n",
       " 'Teleperformance',\n",
       " 'Reliance Jio',\n",
       " 'IBM',\n",
       " 'Larsen & Toubro Limited',\n",
       " 'Reliance Retail',\n",
       " 'HDB Financial Services']"
      ]
     },
     "execution_count": 10,
     "metadata": {},
     "output_type": "execute_result"
    }
   ],
   "source": [
    "name"
   ]
  },
  {
   "cell_type": "code",
   "execution_count": 11,
   "id": "de0f0fa5",
   "metadata": {
    "scrolled": true
   },
   "outputs": [],
   "source": [
    "#span class=\"companyCardWrapper__companyRatingValue\"\n",
    "rating=[]\n",
    "for i in company:\n",
    "    \n",
    "    \n",
    "    b=i.find(class_=\"companyCardWrapper__companyRatingValue\").text.strip()\n",
    "    #print(b)\n",
    "    rating.append(b)\n",
    "    "
   ]
  },
  {
   "cell_type": "code",
   "execution_count": 12,
   "id": "85edd1b2",
   "metadata": {},
   "outputs": [
    {
     "data": {
      "text/plain": [
       "['3.8',\n",
       " '4.0',\n",
       " '3.9',\n",
       " '3.8',\n",
       " '3.9',\n",
       " '4.0',\n",
       " '3.9',\n",
       " '3.8',\n",
       " '3.7',\n",
       " '3.7',\n",
       " '3.9',\n",
       " '3.8',\n",
       " '3.9',\n",
       " '4.1',\n",
       " '3.6',\n",
       " '3.9',\n",
       " '4.1',\n",
       " '4.0',\n",
       " '3.9',\n",
       " '4.0']"
      ]
     },
     "execution_count": 12,
     "metadata": {},
     "output_type": "execute_result"
    }
   ],
   "source": [
    "rating"
   ]
  },
  {
   "cell_type": "code",
   "execution_count": 13,
   "id": "4ca61c8a",
   "metadata": {
    "scrolled": true
   },
   "outputs": [
    {
     "data": {
      "text/plain": [
       "20"
      ]
     },
     "execution_count": 13,
     "metadata": {},
     "output_type": "execute_result"
    }
   ],
   "source": [
    "ano=soup.find_all('div',class_=\"companyCardWrapper__tertiaryInformation\")\n",
    "len(ano)"
   ]
  },
  {
   "cell_type": "code",
   "execution_count": 14,
   "id": "f25a4d5e",
   "metadata": {},
   "outputs": [],
   "source": [
    "reviews=[]\n",
    "interview=[]\n",
    "for i in ano:\n",
    "    c=i.find(class_=\"companyCardWrapper__ActionCount\").text.strip()\n",
    "    \n",
    "    reviews.append(c)\n",
    "    "
   ]
  },
  {
   "cell_type": "code",
   "execution_count": 15,
   "id": "f5042ebb",
   "metadata": {},
   "outputs": [
    {
     "data": {
      "text/plain": [
       "['70k',\n",
       " '44.4k',\n",
       " '39.9k',\n",
       " '37.4k',\n",
       " '32.2k',\n",
       " '32k',\n",
       " '30.3k',\n",
       " '28.2k',\n",
       " '27k',\n",
       " '26.3k',\n",
       " '25.1k',\n",
       " '21k',\n",
       " '20.8k',\n",
       " '20k',\n",
       " '19.8k',\n",
       " '19.3k',\n",
       " '19k',\n",
       " '17.9k',\n",
       " '17.6k',\n",
       " '17.2k']"
      ]
     },
     "execution_count": 15,
     "metadata": {},
     "output_type": "execute_result"
    }
   ],
   "source": [
    "reviews"
   ]
  },
  {
   "cell_type": "code",
   "execution_count": 25,
   "id": "10679537",
   "metadata": {},
   "outputs": [],
   "source": [
    "interview=[]\n",
    "jobs=[]\n",
    "for i in soup.find_all('div',class_=\"companyCardWrapper__tertiaryInformation\"):\n",
    "    c=i.find_all(class_=\"companyCardWrapper__ActionCount\")[2].text.strip()\n",
    "    d=i.find_all(class_=\"companyCardWrapper__ActionCount\")[3].text.strip()\n",
    "    \n",
    "    interview.append(c)\n",
    "    jobs.append(d)\n",
    "    "
   ]
  },
  {
   "cell_type": "code",
   "execution_count": 35,
   "id": "63f62236",
   "metadata": {},
   "outputs": [],
   "source": [
    "this=soup.find_all('div',class_=\"companyCardWrapper__tertiaryInformation\")\n",
    "jobs_posted=[]\n",
    "for i in this:\n",
    "    p=i.find_all(class_=\"companyCardWrapper__ActionCount\")[3].text.strip()\n",
    "    jobs_posted.append(p)\n",
    "    "
   ]
  },
  {
   "cell_type": "code",
   "execution_count": 36,
   "id": "73f4f92a",
   "metadata": {},
   "outputs": [
    {
     "data": {
      "text/plain": [
       "['582',\n",
       " '8.8k',\n",
       " '459',\n",
       " '316',\n",
       " '411',\n",
       " '212',\n",
       " '869',\n",
       " '900',\n",
       " '596',\n",
       " '1.1k',\n",
       " '1.1k',\n",
       " '316',\n",
       " '112',\n",
       " '682',\n",
       " '268',\n",
       " '151',\n",
       " '4.8k',\n",
       " '108',\n",
       " '247',\n",
       " '58']"
      ]
     },
     "execution_count": 36,
     "metadata": {},
     "output_type": "execute_result"
    }
   ],
   "source": [
    "jobs_posted"
   ]
  },
  {
   "cell_type": "code",
   "execution_count": 17,
   "id": "b935a6fe",
   "metadata": {},
   "outputs": [
    {
     "data": {
      "text/plain": [
       "['5.9k',\n",
       " '4.1k',\n",
       " '3.5k',\n",
       " '3.4k',\n",
       " '1.5k',\n",
       " '1.8k',\n",
       " '4.6k',\n",
       " '2.3k',\n",
       " '2.4k',\n",
       " '2.3k',\n",
       " '1.9k',\n",
       " '1k',\n",
       " '1k',\n",
       " '3.3k',\n",
       " '1.1k',\n",
       " '1.1k',\n",
       " '1.4k',\n",
       " '1k',\n",
       " '1.1k',\n",
       " '553']"
      ]
     },
     "execution_count": 17,
     "metadata": {},
     "output_type": "execute_result"
    }
   ],
   "source": [
    "interview"
   ]
  },
  {
   "cell_type": "code",
   "execution_count": 18,
   "id": "b0cc7634",
   "metadata": {},
   "outputs": [
    {
     "data": {
      "text/plain": [
       "['582',\n",
       " '8.8k',\n",
       " '459',\n",
       " '316',\n",
       " '411',\n",
       " '212',\n",
       " '869',\n",
       " '900',\n",
       " '596',\n",
       " '1.1k',\n",
       " '1.1k',\n",
       " '316',\n",
       " '112',\n",
       " '682',\n",
       " '268',\n",
       " '151',\n",
       " '4.8k',\n",
       " '108',\n",
       " '247',\n",
       " '58']"
      ]
     },
     "execution_count": 18,
     "metadata": {},
     "output_type": "execute_result"
    }
   ],
   "source": [
    "jobs         "
   ]
  },
  {
   "cell_type": "code",
   "execution_count": 19,
   "id": "fdb6b741",
   "metadata": {},
   "outputs": [
    {
     "ename": "NameError",
     "evalue": "name 'da' is not defined",
     "output_type": "error",
     "traceback": [
      "\u001b[1;31m---------------------------------------------------------------------------\u001b[0m",
      "\u001b[1;31mNameError\u001b[0m                                 Traceback (most recent call last)",
      "Cell \u001b[1;32mIn[19], line 1\u001b[0m\n\u001b[1;32m----> 1\u001b[0m da[\u001b[38;5;241m0\u001b[39m]\u001b[38;5;241m.\u001b[39mtext\u001b[38;5;241m.\u001b[39mstrip()\u001b[38;5;241m.\u001b[39msplit(\u001b[38;5;124m'\u001b[39m\u001b[38;5;124m|\u001b[39m\u001b[38;5;124m'\u001b[39m)[\u001b[38;5;241m2\u001b[39m]\n",
      "\u001b[1;31mNameError\u001b[0m: name 'da' is not defined"
     ]
    }
   ],
   "source": [
    "da[0].text.strip().split('|')[2]\n"
   ]
  },
  {
   "cell_type": "code",
   "execution_count": 20,
   "id": "4a25580a",
   "metadata": {
    "collapsed": true
   },
   "outputs": [
    {
     "data": {
      "text/plain": [
       "[<div class=\"companyCardWrapper__companyDetails\"><div class=\"companyCardWrapper__companyLogo\"><img alt=\"Tata Consultancy Services logo\" height=\"50\" loading=\"lazy\" onerror=\"this.onerror=null;this.src='/static/icons/company-placeholder.svg';\" src=\"https://static.ambitionbox.com/assets/v2/images/rs:fit:200:200:false:false/bG9jYWw6Ly8vbG9nb3Mvb3JpZ2luYWxzL3Rjcy5qcGc.webp\" width=\"50\"/></div> <div class=\"companyCardWrapper__metaInformation\"><div class=\"companyCardWrapper__header\"><div class=\"companyCardWrapper__companyPrimaryDetails\"><div class=\"companyCardWrapper__companyPrimaryDetailsTopSection\"><a class=\"companyCardWrapper__companyName companyCardWrapper__companyName--m8\" href=\"/overview/tcs-overview\"><h2 class=\"companyCardWrapper__companyName\" title=\"TCS\">\n",
       " \t\t\t\t\t\t\t\t\t\tTCS\n",
       " \t\t\t\t\t\t\t\t\t</h2></a> <!-- --> <button arialabel=\"Follow\" class=\"companyCardWrapper__FollowCTA g-btn g-btn--text g-btn--md\" title=\"Follow\" type=\"button\"><!-- --> <span class=\"g-btn__label g-btn__label--md g-btn__label--text g-btn__label--loader\">Follow</span> <!-- --></button></div></div> <div class=\"companyCardWrapper__companyRatingWrapper\"><div class=\"companyCardWrapper__companyRating rating-35\"><i class=\"icon icon-star\"></i> <span class=\"companyCardWrapper__companyRatingValue\">3.8</span></div></div></div> <div class=\"companyCardWrapper__secondaryInformation\"><div class=\"companyCardWrapper__ratingWrapper\"><div class=\"companyCardWrapper__interLinkingWrapper\"><span class=\"companyCardWrapper__interLinking\">\n",
       " \t\t\t\t\t\t\t\t\tIT Services &amp; Consulting | 1 Lakh+ Employees | Public | 55 years old | Mumbai +323 more\n",
       " \t\t\t\t\t\t\t\t</span></div> <!-- --> <div class=\"companyCardWrapper__ratingComparisonWrapper\"><div><div class=\"companyCardWrapper__ratingHeader\"><img height=\"14px\" src=\"/static/companyListing/ThumbsUp.svg\" width=\"14px\"/> <span class=\"companyCardWrapper__ratingHeader--high\">Highly Rated For</span></div> <span class=\"companyCardWrapper__ratingValues\">Job Security, Work Life Balance</span></div> <div><div class=\"companyCardWrapper__ratingHeader\"><img height=\"14px\" src=\"/static/companyListing/ThumbsDown.svg\" width=\"14px\"/> <span class=\"companyCardWrapper__ratingHeader--critical\">Critically Rated For</span></div> <span class=\"companyCardWrapper__ratingValues\">Promotions / Appraisal, Salary &amp; Benefits</span></div></div></div> <div class=\"companyCardWrapper__followWrapper\"><!-- --></div></div></div></div>,\n",
       " <div class=\"companyCardWrapper__companyDetails\"><div class=\"companyCardWrapper__companyLogo\"><img alt=\"Accenture logo\" height=\"50\" loading=\"lazy\" onerror=\"this.onerror=null;this.src='/static/icons/company-placeholder.svg';\" src=\"https://static.ambitionbox.com/assets/v2/images/rs:fit:200:200:false:false/bG9jYWw6Ly8vbG9nb3Mvb3JpZ2luYWxzL2FjY2VudHVyZS5qcGc.webp\" width=\"50\"/></div> <div class=\"companyCardWrapper__metaInformation\"><div class=\"companyCardWrapper__header\"><div class=\"companyCardWrapper__companyPrimaryDetails\"><div class=\"companyCardWrapper__companyPrimaryDetailsTopSection\"><a class=\"companyCardWrapper__companyName companyCardWrapper__companyName--m8\" href=\"/overview/accenture-overview\"><h2 class=\"companyCardWrapper__companyName\" title=\"Accenture\">\n",
       " \t\t\t\t\t\t\t\t\t\tAccenture\n",
       " \t\t\t\t\t\t\t\t\t</h2></a> <!-- --> <button arialabel=\"Follow\" class=\"companyCardWrapper__FollowCTA g-btn g-btn--text g-btn--md\" title=\"Follow\" type=\"button\"><!-- --> <span class=\"g-btn__label g-btn__label--md g-btn__label--text g-btn__label--loader\">Follow</span> <!-- --></button></div></div> <div class=\"companyCardWrapper__companyRatingWrapper\"><div class=\"companyCardWrapper__companyRating rating-4\"><i class=\"icon icon-star\"></i> <span class=\"companyCardWrapper__companyRatingValue\">4.0</span></div></div></div> <div class=\"companyCardWrapper__secondaryInformation\"><div class=\"companyCardWrapper__ratingWrapper\"><div class=\"companyCardWrapper__interLinkingWrapper\"><span class=\"companyCardWrapper__interLinking\">\n",
       " \t\t\t\t\t\t\t\t\tIT Services &amp; Consulting | 1 Lakh+ Employees | Public | 34 years old | Dublin +162 more\n",
       " \t\t\t\t\t\t\t\t</span></div> <div class=\"companyCardWrapper__awardLeaf\"><div class=\"leaf-list-wrapper noscrollbars-sm\" data-v-384c215c=\"\"><div class=\"award-leaf\" data-v-384c215c=\"\" data-v-789afc02=\"\"><img alt=\"award\" data-v-789afc02=\"\" height=\"24\" src=\"https://static.ambitionbox.com/static/awards/black-theme/golden-leaf-left.png\" width=\"9\"/> <img alt=\"AmbitionBox awards\" class=\"ambox-logo\" data-v-789afc02=\"\" height=\"14\" src=\"https://static.ambitionbox.com/static/awards/black-theme/gold-ambox-logo.svg\" width=\"12\"/> <p data-v-789afc02=\"\">\n",
       " \t\t AmbitionBox Award Winner'22\n",
       " \t</p> <img alt=\"award\" data-v-789afc02=\"\" height=\"24\" src=\"https://static.ambitionbox.com/static/awards/black-theme/golden-leaf-right.png\" width=\"9\"/></div> <!-- --></div></div> <div class=\"companyCardWrapper__ratingComparisonWrapper\"><div><div class=\"companyCardWrapper__ratingHeader\"><img height=\"14px\" src=\"/static/companyListing/ThumbsUp.svg\" width=\"14px\"/> <span class=\"companyCardWrapper__ratingHeader--high\">Highly Rated For</span></div> <span class=\"companyCardWrapper__ratingValues\">Company Culture, Skill Development / Learning, Job Security</span></div> <!-- --></div></div> <div class=\"companyCardWrapper__followWrapper\"><!-- --></div></div></div></div>,\n",
       " <div class=\"companyCardWrapper__companyDetails\"><div class=\"companyCardWrapper__companyLogo\"><img alt=\"Cognizant logo\" height=\"50\" loading=\"lazy\" onerror=\"this.onerror=null;this.src='/static/icons/company-placeholder.svg';\" src=\"https://static.ambitionbox.com/assets/v2/images/rs:fit:200:200:false:false/bG9jYWw6Ly8vbG9nb3Mvb3JpZ2luYWxzL2NvZ25pemFudC5qcGc.webp\" width=\"50\"/></div> <div class=\"companyCardWrapper__metaInformation\"><div class=\"companyCardWrapper__header\"><div class=\"companyCardWrapper__companyPrimaryDetails\"><div class=\"companyCardWrapper__companyPrimaryDetailsTopSection\"><a class=\"companyCardWrapper__companyName\" href=\"/overview/cognizant-overview\"><h2 class=\"companyCardWrapper__companyName\" title=\"Cognizant\">\n",
       " \t\t\t\t\t\t\t\t\t\tCognizant\n",
       " \t\t\t\t\t\t\t\t\t</h2></a> <span class=\"companyCardWrapper__companyVerified\"><img height=\"16px\" src=\"https://static.ambitionbox.com/static/icons/verified_blue_tick.svg\" width=\"16px\"/></span> <button arialabel=\"Follow\" class=\"companyCardWrapper__FollowCTA g-btn g-btn--text g-btn--md\" title=\"Follow\" type=\"button\"><!-- --> <span class=\"g-btn__label g-btn__label--md g-btn__label--text g-btn__label--loader\">Follow</span> <!-- --></button></div></div> <div class=\"companyCardWrapper__companyRatingWrapper\"><div class=\"companyCardWrapper__companyRating rating-35\"><i class=\"icon icon-star\"></i> <span class=\"companyCardWrapper__companyRatingValue\">3.9</span></div></div></div> <div class=\"companyCardWrapper__secondaryInformation\"><div class=\"companyCardWrapper__ratingWrapper\"><div class=\"companyCardWrapper__interLinkingWrapper\"><span class=\"companyCardWrapper__interLinking\">\n",
       " \t\t\t\t\t\t\t\t\tIT Services &amp; Consulting | 1 Lakh+ Employees | Forbes Global 2000 | 29 years old | Teaneck. New Jersey. +145 more\n",
       " \t\t\t\t\t\t\t\t</span></div> <div class=\"companyCardWrapper__awardLeaf\"><div class=\"leaf-list-wrapper noscrollbars-sm\" data-v-384c215c=\"\"><div class=\"award-leaf\" data-v-384c215c=\"\" data-v-789afc02=\"\"><img alt=\"award\" data-v-789afc02=\"\" height=\"24\" src=\"https://static.ambitionbox.com/static/awards/black-theme/golden-leaf-left.png\" width=\"9\"/> <img alt=\"AmbitionBox awards\" class=\"ambox-logo\" data-v-789afc02=\"\" height=\"14\" src=\"https://static.ambitionbox.com/static/awards/black-theme/gold-ambox-logo.svg\" width=\"12\"/> <p data-v-789afc02=\"\">\n",
       " \t\t AmbitionBox Award Winner'22\n",
       " \t</p> <img alt=\"award\" data-v-789afc02=\"\" height=\"24\" src=\"https://static.ambitionbox.com/static/awards/black-theme/golden-leaf-right.png\" width=\"9\"/></div> <!-- --></div></div> <div class=\"companyCardWrapper__ratingComparisonWrapper\"><div><div class=\"companyCardWrapper__ratingHeader\"><img height=\"14px\" src=\"/static/companyListing/ThumbsUp.svg\" width=\"14px\"/> <span class=\"companyCardWrapper__ratingHeader--high\">Highly Rated For</span></div> <span class=\"companyCardWrapper__ratingValues\">Skill Development / Learning</span></div> <div><div class=\"companyCardWrapper__ratingHeader\"><img height=\"14px\" src=\"/static/companyListing/ThumbsDown.svg\" width=\"14px\"/> <span class=\"companyCardWrapper__ratingHeader--critical\">Critically Rated For</span></div> <span class=\"companyCardWrapper__ratingValues\">Promotions / Appraisal</span></div></div></div> <div class=\"companyCardWrapper__followWrapper\"><!-- --></div></div></div></div>,\n",
       " <div class=\"companyCardWrapper__companyDetails\"><div class=\"companyCardWrapper__companyLogo\"><img alt=\"Wipro logo\" height=\"50\" loading=\"lazy\" onerror=\"this.onerror=null;this.src='/static/icons/company-placeholder.svg';\" src=\"https://static.ambitionbox.com/assets/v2/images/rs:fit:200:200:false:false/bG9jYWw6Ly8vbG9nb3Mvb3JpZ2luYWxzL3dpcHJvLmpwZw.webp\" width=\"50\"/></div> <div class=\"companyCardWrapper__metaInformation\"><div class=\"companyCardWrapper__header\"><div class=\"companyCardWrapper__companyPrimaryDetails\"><div class=\"companyCardWrapper__companyPrimaryDetailsTopSection\"><a class=\"companyCardWrapper__companyName companyCardWrapper__companyName--m8\" href=\"/overview/wipro-overview\"><h2 class=\"companyCardWrapper__companyName\" title=\"Wipro\">\n",
       " \t\t\t\t\t\t\t\t\t\tWipro\n",
       " \t\t\t\t\t\t\t\t\t</h2></a> <!-- --> <button arialabel=\"Follow\" class=\"companyCardWrapper__FollowCTA g-btn g-btn--text g-btn--md\" title=\"Follow\" type=\"button\"><!-- --> <span class=\"g-btn__label g-btn__label--md g-btn__label--text g-btn__label--loader\">Follow</span> <!-- --></button></div></div> <div class=\"companyCardWrapper__companyRatingWrapper\"><div class=\"companyCardWrapper__companyRating rating-35\"><i class=\"icon icon-star\"></i> <span class=\"companyCardWrapper__companyRatingValue\">3.8</span></div></div></div> <div class=\"companyCardWrapper__secondaryInformation\"><div class=\"companyCardWrapper__ratingWrapper\"><div class=\"companyCardWrapper__interLinkingWrapper\"><span class=\"companyCardWrapper__interLinking\">\n",
       " \t\t\t\t\t\t\t\t\tIT Services &amp; Consulting | 1 Lakh+ Employees | Public | 78 years old | Bangalore/Bengaluru +266 more\n",
       " \t\t\t\t\t\t\t\t</span></div> <div class=\"companyCardWrapper__awardLeaf\"><div class=\"leaf-list-wrapper noscrollbars-sm\" data-v-384c215c=\"\"><div class=\"award-leaf\" data-v-384c215c=\"\" data-v-789afc02=\"\"><img alt=\"award\" data-v-789afc02=\"\" height=\"24\" src=\"https://static.ambitionbox.com/static/awards/black-theme/golden-leaf-left.png\" width=\"9\"/> <img alt=\"AmbitionBox awards\" class=\"ambox-logo\" data-v-789afc02=\"\" height=\"14\" src=\"https://static.ambitionbox.com/static/awards/black-theme/gold-ambox-logo.svg\" width=\"12\"/> <p data-v-789afc02=\"\">\n",
       " \t\t AmbitionBox Award Winner'22\n",
       " \t</p> <img alt=\"award\" data-v-789afc02=\"\" height=\"24\" src=\"https://static.ambitionbox.com/static/awards/black-theme/golden-leaf-right.png\" width=\"9\"/></div> <!-- --></div></div> <div class=\"companyCardWrapper__ratingComparisonWrapper\"><div><div class=\"companyCardWrapper__ratingHeader\"><img height=\"14px\" src=\"/static/companyListing/ThumbsUp.svg\" width=\"14px\"/> <span class=\"companyCardWrapper__ratingHeader--high\">Highly Rated For</span></div> <span class=\"companyCardWrapper__ratingValues\">Job Security</span></div> <div><div class=\"companyCardWrapper__ratingHeader\"><img height=\"14px\" src=\"/static/companyListing/ThumbsDown.svg\" width=\"14px\"/> <span class=\"companyCardWrapper__ratingHeader--critical\">Critically Rated For</span></div> <span class=\"companyCardWrapper__ratingValues\">Promotions / Appraisal, Salary &amp; Benefits</span></div></div></div> <div class=\"companyCardWrapper__followWrapper\"><!-- --></div></div></div></div>,\n",
       " <div class=\"companyCardWrapper__companyDetails\"><div class=\"companyCardWrapper__companyLogo\"><img alt=\"HDFC Bank logo\" height=\"50\" loading=\"lazy\" onerror=\"this.onerror=null;this.src='/static/icons/company-placeholder.svg';\" src=\"https://static.ambitionbox.com/assets/v2/images/rs:fit:200:200:false:false/bG9jYWw6Ly8vbG9nb3Mvb3JpZ2luYWxzL2hkZmMtYmFuay5qcGc.webp\" width=\"50\"/></div> <div class=\"companyCardWrapper__metaInformation\"><div class=\"companyCardWrapper__header\"><div class=\"companyCardWrapper__companyPrimaryDetails\"><div class=\"companyCardWrapper__companyPrimaryDetailsTopSection\"><a class=\"companyCardWrapper__companyName companyCardWrapper__companyName--m8\" href=\"/overview/hdfc-bank-overview\"><h2 class=\"companyCardWrapper__companyName\" title=\"HDFC Bank\">\n",
       " \t\t\t\t\t\t\t\t\t\tHDFC Bank\n",
       " \t\t\t\t\t\t\t\t\t</h2></a> <!-- --> <button arialabel=\"Follow\" class=\"companyCardWrapper__FollowCTA g-btn g-btn--text g-btn--md\" title=\"Follow\" type=\"button\"><!-- --> <span class=\"g-btn__label g-btn__label--md g-btn__label--text g-btn__label--loader\">Follow</span> <!-- --></button></div></div> <div class=\"companyCardWrapper__companyRatingWrapper\"><div class=\"companyCardWrapper__companyRating rating-35\"><i class=\"icon icon-star\"></i> <span class=\"companyCardWrapper__companyRatingValue\">3.9</span></div></div></div> <div class=\"companyCardWrapper__secondaryInformation\"><div class=\"companyCardWrapper__ratingWrapper\"><div class=\"companyCardWrapper__interLinkingWrapper\"><span class=\"companyCardWrapper__interLinking\">\n",
       " \t\t\t\t\t\t\t\t\tBanking | 1 Lakh+ Employees | Public | 29 years old | Mumbai +1489 more\n",
       " \t\t\t\t\t\t\t\t</span></div> <div class=\"companyCardWrapper__awardLeaf\"><div class=\"leaf-list-wrapper noscrollbars-sm\" data-v-384c215c=\"\"><div class=\"award-leaf\" data-v-384c215c=\"\" data-v-789afc02=\"\"><img alt=\"award\" data-v-789afc02=\"\" height=\"24\" src=\"https://static.ambitionbox.com/static/awards/black-theme/golden-leaf-left.png\" width=\"9\"/> <img alt=\"AmbitionBox awards\" class=\"ambox-logo\" data-v-789afc02=\"\" height=\"14\" src=\"https://static.ambitionbox.com/static/awards/black-theme/gold-ambox-logo.svg\" width=\"12\"/> <p data-v-789afc02=\"\">\n",
       " \t\t AmbitionBox Award Winner'22\n",
       " \t</p> <img alt=\"award\" data-v-789afc02=\"\" height=\"24\" src=\"https://static.ambitionbox.com/static/awards/black-theme/golden-leaf-right.png\" width=\"9\"/></div> <!-- --></div></div> <div class=\"companyCardWrapper__ratingComparisonWrapper\"><div><div class=\"companyCardWrapper__ratingHeader\"><img height=\"14px\" src=\"/static/companyListing/ThumbsUp.svg\" width=\"14px\"/> <span class=\"companyCardWrapper__ratingHeader--high\">Highly Rated For</span></div> <span class=\"companyCardWrapper__ratingValues\">Job Security, Skill Development / Learning</span></div> <div><div class=\"companyCardWrapper__ratingHeader\"><img height=\"14px\" src=\"/static/companyListing/ThumbsDown.svg\" width=\"14px\"/> <span class=\"companyCardWrapper__ratingHeader--critical\">Critically Rated For</span></div> <span class=\"companyCardWrapper__ratingValues\">Promotions / Appraisal</span></div></div></div> <div class=\"companyCardWrapper__followWrapper\"><!-- --></div></div></div></div>,\n",
       " <div class=\"companyCardWrapper__companyDetails\"><div class=\"companyCardWrapper__companyLogo\"><img alt=\"ICICI Bank logo\" height=\"50\" loading=\"lazy\" onerror=\"this.onerror=null;this.src='/static/icons/company-placeholder.svg';\" src=\"https://static.ambitionbox.com/assets/v2/images/rs:fit:200:200:false:false/bG9jYWw6Ly8vbG9nb3Mvb3JpZ2luYWxzL2ljaWNpLWJhbmsuanBn.webp\" width=\"50\"/></div> <div class=\"companyCardWrapper__metaInformation\"><div class=\"companyCardWrapper__header\"><div class=\"companyCardWrapper__companyPrimaryDetails\"><div class=\"companyCardWrapper__companyPrimaryDetailsTopSection\"><a class=\"companyCardWrapper__companyName companyCardWrapper__companyName--m8\" href=\"/overview/icici-bank-overview\"><h2 class=\"companyCardWrapper__companyName\" title=\"ICICI Bank\">\n",
       " \t\t\t\t\t\t\t\t\t\tICICI Bank\n",
       " \t\t\t\t\t\t\t\t\t</h2></a> <!-- --> <button arialabel=\"Follow\" class=\"companyCardWrapper__FollowCTA g-btn g-btn--text g-btn--md\" title=\"Follow\" type=\"button\"><!-- --> <span class=\"g-btn__label g-btn__label--md g-btn__label--text g-btn__label--loader\">Follow</span> <!-- --></button></div></div> <div class=\"companyCardWrapper__companyRatingWrapper\"><div class=\"companyCardWrapper__companyRating rating-4\"><i class=\"icon icon-star\"></i> <span class=\"companyCardWrapper__companyRatingValue\">4.0</span></div></div></div> <div class=\"companyCardWrapper__secondaryInformation\"><div class=\"companyCardWrapper__ratingWrapper\"><div class=\"companyCardWrapper__interLinkingWrapper\"><span class=\"companyCardWrapper__interLinking\">\n",
       " \t\t\t\t\t\t\t\t\tBanking | 1 Lakh+ Employees | Public | 29 years old | Mumbai +1243 more\n",
       " \t\t\t\t\t\t\t\t</span></div> <div class=\"companyCardWrapper__awardLeaf\"><div class=\"leaf-list-wrapper noscrollbars-sm\" data-v-384c215c=\"\"><div class=\"award-leaf\" data-v-384c215c=\"\" data-v-789afc02=\"\"><img alt=\"award\" data-v-789afc02=\"\" height=\"24\" src=\"https://static.ambitionbox.com/static/awards/black-theme/golden-leaf-left.png\" width=\"9\"/> <img alt=\"AmbitionBox awards\" class=\"ambox-logo\" data-v-789afc02=\"\" height=\"14\" src=\"https://static.ambitionbox.com/static/awards/black-theme/gold-ambox-logo.svg\" width=\"12\"/> <p data-v-789afc02=\"\">\n",
       " \t\t AmbitionBox Award Winner'22\n",
       " \t</p> <img alt=\"award\" data-v-789afc02=\"\" height=\"24\" src=\"https://static.ambitionbox.com/static/awards/black-theme/golden-leaf-right.png\" width=\"9\"/></div> <!-- --></div></div> <div class=\"companyCardWrapper__ratingComparisonWrapper\"><div><div class=\"companyCardWrapper__ratingHeader\"><img height=\"14px\" src=\"/static/companyListing/ThumbsUp.svg\" width=\"14px\"/> <span class=\"companyCardWrapper__ratingHeader--high\">Highly Rated For</span></div> <span class=\"companyCardWrapper__ratingValues\">Job Security, Skill Development / Learning, Company Culture</span></div> <!-- --></div></div> <div class=\"companyCardWrapper__followWrapper\"><!-- --></div></div></div></div>,\n",
       " <div class=\"companyCardWrapper__companyDetails\"><div class=\"companyCardWrapper__companyLogo\"><img alt=\"Infosys logo\" height=\"50\" loading=\"lazy\" onerror=\"this.onerror=null;this.src='/static/icons/company-placeholder.svg';\" src=\"https://static.ambitionbox.com/assets/v2/images/rs:fit:200:200:false:false/bG9jYWw6Ly8vbG9nb3Mvb3JpZ2luYWxzL2luZm9zeXMuanBn.webp\" width=\"50\"/></div> <div class=\"companyCardWrapper__metaInformation\"><div class=\"companyCardWrapper__header\"><div class=\"companyCardWrapper__companyPrimaryDetails\"><div class=\"companyCardWrapper__companyPrimaryDetailsTopSection\"><a class=\"companyCardWrapper__companyName\" href=\"/overview/infosys-overview\"><h2 class=\"companyCardWrapper__companyName\" title=\"Infosys\">\n",
       " \t\t\t\t\t\t\t\t\t\tInfosys\n",
       " \t\t\t\t\t\t\t\t\t</h2></a> <span class=\"companyCardWrapper__companyVerified\"><img height=\"16px\" src=\"https://static.ambitionbox.com/static/icons/verified_blue_tick.svg\" width=\"16px\"/></span> <button arialabel=\"Follow\" class=\"companyCardWrapper__FollowCTA g-btn g-btn--text g-btn--md\" title=\"Follow\" type=\"button\"><!-- --> <span class=\"g-btn__label g-btn__label--md g-btn__label--text g-btn__label--loader\">Follow</span> <!-- --></button></div></div> <div class=\"companyCardWrapper__companyRatingWrapper\"><div class=\"companyCardWrapper__companyRating rating-35\"><i class=\"icon icon-star\"></i> <span class=\"companyCardWrapper__companyRatingValue\">3.9</span></div></div></div> <div class=\"companyCardWrapper__secondaryInformation\"><div class=\"companyCardWrapper__ratingWrapper\"><div class=\"companyCardWrapper__interLinkingWrapper\"><span class=\"companyCardWrapper__interLinking\">\n",
       " \t\t\t\t\t\t\t\t\tIT Services &amp; Consulting | 1 Lakh+ Employees | Public | 42 years old | Bengaluru/Bangalore +161 more\n",
       " \t\t\t\t\t\t\t\t</span></div> <div class=\"companyCardWrapper__awardLeaf\"><div class=\"leaf-list-wrapper noscrollbars-sm\" data-v-384c215c=\"\"><div class=\"award-leaf\" data-v-384c215c=\"\" data-v-789afc02=\"\"><img alt=\"award\" data-v-789afc02=\"\" height=\"24\" src=\"https://static.ambitionbox.com/static/awards/black-theme/golden-leaf-left.png\" width=\"9\"/> <img alt=\"AmbitionBox awards\" class=\"ambox-logo\" data-v-789afc02=\"\" height=\"14\" src=\"https://static.ambitionbox.com/static/awards/black-theme/gold-ambox-logo.svg\" width=\"12\"/> <p data-v-789afc02=\"\">\n",
       " \t\t AmbitionBox Award Winner'22\n",
       " \t</p> <img alt=\"award\" data-v-789afc02=\"\" height=\"24\" src=\"https://static.ambitionbox.com/static/awards/black-theme/golden-leaf-right.png\" width=\"9\"/></div> <!-- --></div></div> <div class=\"companyCardWrapper__ratingComparisonWrapper\"><div><div class=\"companyCardWrapper__ratingHeader\"><img height=\"14px\" src=\"/static/companyListing/ThumbsUp.svg\" width=\"14px\"/> <span class=\"companyCardWrapper__ratingHeader--high\">Highly Rated For</span></div> <span class=\"companyCardWrapper__ratingValues\">Job Security, Company Culture, Skill Development / Learning</span></div> <div><div class=\"companyCardWrapper__ratingHeader\"><img height=\"14px\" src=\"/static/companyListing/ThumbsDown.svg\" width=\"14px\"/> <span class=\"companyCardWrapper__ratingHeader--critical\">Critically Rated For</span></div> <span class=\"companyCardWrapper__ratingValues\">Salary &amp; Benefits, Promotions / Appraisal</span></div></div></div> <div class=\"companyCardWrapper__followWrapper\"><!-- --></div></div></div></div>,\n",
       " <div class=\"companyCardWrapper__companyDetails\"><div class=\"companyCardWrapper__companyLogo\"><img alt=\"Capgemini logo\" height=\"50\" loading=\"lazy\" onerror=\"this.onerror=null;this.src='/static/icons/company-placeholder.svg';\" src=\"https://static.ambitionbox.com/assets/v2/images/rs:fit:200:200:false:false/bG9jYWw6Ly8vbG9nb3Mvb3JpZ2luYWxzL2NhcGdlbWluaS5qcGc.webp\" width=\"50\"/></div> <div class=\"companyCardWrapper__metaInformation\"><div class=\"companyCardWrapper__header\"><div class=\"companyCardWrapper__companyPrimaryDetails\"><div class=\"companyCardWrapper__companyPrimaryDetailsTopSection\"><a class=\"companyCardWrapper__companyName\" href=\"/overview/capgemini-overview\"><h2 class=\"companyCardWrapper__companyName\" title=\"Capgemini\">\n",
       " \t\t\t\t\t\t\t\t\t\tCapgemini\n",
       " \t\t\t\t\t\t\t\t\t</h2></a> <span class=\"companyCardWrapper__companyVerified\"><img height=\"16px\" src=\"https://static.ambitionbox.com/static/icons/verified_blue_tick.svg\" width=\"16px\"/></span> <button arialabel=\"Follow\" class=\"companyCardWrapper__FollowCTA g-btn g-btn--text g-btn--md\" title=\"Follow\" type=\"button\"><!-- --> <span class=\"g-btn__label g-btn__label--md g-btn__label--text g-btn__label--loader\">Follow</span> <!-- --></button></div></div> <div class=\"companyCardWrapper__companyRatingWrapper\"><div class=\"companyCardWrapper__companyRating rating-35\"><i class=\"icon icon-star\"></i> <span class=\"companyCardWrapper__companyRatingValue\">3.8</span></div></div></div> <div class=\"companyCardWrapper__secondaryInformation\"><div class=\"companyCardWrapper__ratingWrapper\"><div class=\"companyCardWrapper__interLinkingWrapper\"><span class=\"companyCardWrapper__interLinking\">\n",
       " \t\t\t\t\t\t\t\t\tIT Services &amp; Consulting | 1 Lakh+ Employees | Public | 56 years old | Paris +115 more\n",
       " \t\t\t\t\t\t\t\t</span></div> <div class=\"companyCardWrapper__awardLeaf\"><div class=\"leaf-list-wrapper noscrollbars-sm\" data-v-384c215c=\"\"><div class=\"award-leaf\" data-v-384c215c=\"\" data-v-789afc02=\"\"><img alt=\"award\" data-v-789afc02=\"\" height=\"24\" src=\"https://static.ambitionbox.com/static/awards/black-theme/golden-leaf-left.png\" width=\"9\"/> <img alt=\"AmbitionBox awards\" class=\"ambox-logo\" data-v-789afc02=\"\" height=\"14\" src=\"https://static.ambitionbox.com/static/awards/black-theme/gold-ambox-logo.svg\" width=\"12\"/> <p data-v-789afc02=\"\">\n",
       " \t\t AmbitionBox Award Winner'22\n",
       " \t</p> <img alt=\"award\" data-v-789afc02=\"\" height=\"24\" src=\"https://static.ambitionbox.com/static/awards/black-theme/golden-leaf-right.png\" width=\"9\"/></div> <!-- --></div></div> <div class=\"companyCardWrapper__ratingComparisonWrapper\"><div><div class=\"companyCardWrapper__ratingHeader\"><img height=\"14px\" src=\"/static/companyListing/ThumbsUp.svg\" width=\"14px\"/> <span class=\"companyCardWrapper__ratingHeader--high\">Highly Rated For</span></div> <span class=\"companyCardWrapper__ratingValues\">Job Security, Work Life Balance, Skill Development / Learning</span></div> <div><div class=\"companyCardWrapper__ratingHeader\"><img height=\"14px\" src=\"/static/companyListing/ThumbsDown.svg\" width=\"14px\"/> <span class=\"companyCardWrapper__ratingHeader--critical\">Critically Rated For</span></div> <span class=\"companyCardWrapper__ratingValues\">Promotions / Appraisal, Salary &amp; Benefits</span></div></div></div> <div class=\"companyCardWrapper__followWrapper\"><!-- --></div></div></div></div>,\n",
       " <div class=\"companyCardWrapper__companyDetails\"><div class=\"companyCardWrapper__companyLogo\"><img alt=\"HCL Technologies logo\" height=\"50\" loading=\"lazy\" onerror=\"this.onerror=null;this.src='/static/icons/company-placeholder.svg';\" src=\"https://static.ambitionbox.com/assets/v2/images/rs:fit:200:200:false:false/bG9jYWw6Ly8vbG9nb3Mvb3JpZ2luYWxzL2hjbC10ZWNobm9sb2dpZXMuanBn.webp\" width=\"50\"/></div> <div class=\"companyCardWrapper__metaInformation\"><div class=\"companyCardWrapper__header\"><div class=\"companyCardWrapper__companyPrimaryDetails\"><div class=\"companyCardWrapper__companyPrimaryDetailsTopSection\"><a class=\"companyCardWrapper__companyName\" href=\"/overview/hcl-technologies-overview\"><h2 class=\"companyCardWrapper__companyName\" title=\"HCLTech\">\n",
       " \t\t\t\t\t\t\t\t\t\tHCLTech\n",
       " \t\t\t\t\t\t\t\t\t</h2></a> <span class=\"companyCardWrapper__companyVerified\"><img height=\"16px\" src=\"https://static.ambitionbox.com/static/icons/verified_blue_tick.svg\" width=\"16px\"/></span> <button arialabel=\"Follow\" class=\"companyCardWrapper__FollowCTA g-btn g-btn--text g-btn--md\" title=\"Follow\" type=\"button\"><!-- --> <span class=\"g-btn__label g-btn__label--md g-btn__label--text g-btn__label--loader\">Follow</span> <!-- --></button></div></div> <div class=\"companyCardWrapper__companyRatingWrapper\"><div class=\"companyCardWrapper__companyRating rating-35\"><i class=\"icon icon-star\"></i> <span class=\"companyCardWrapper__companyRatingValue\">3.7</span></div></div></div> <div class=\"companyCardWrapper__secondaryInformation\"><div class=\"companyCardWrapper__ratingWrapper\"><div class=\"companyCardWrapper__interLinkingWrapper\"><span class=\"companyCardWrapper__interLinking\">\n",
       " \t\t\t\t\t\t\t\t\tIT Services &amp; Consulting | 1 Lakh+ Employees | Public | 32 years old | Noida +172 more\n",
       " \t\t\t\t\t\t\t\t</span></div> <!-- --> <div class=\"companyCardWrapper__ratingComparisonWrapper\"><div><div class=\"companyCardWrapper__ratingHeader\"><img height=\"14px\" src=\"/static/companyListing/ThumbsUp.svg\" width=\"14px\"/> <span class=\"companyCardWrapper__ratingHeader--high\">Highly Rated For</span></div> <span class=\"companyCardWrapper__ratingValues\">Job Security</span></div> <div><div class=\"companyCardWrapper__ratingHeader\"><img height=\"14px\" src=\"/static/companyListing/ThumbsDown.svg\" width=\"14px\"/> <span class=\"companyCardWrapper__ratingHeader--critical\">Critically Rated For</span></div> <span class=\"companyCardWrapper__ratingValues\">Promotions / Appraisal, Salary &amp; Benefits, Work Satisfaction</span></div></div></div> <div class=\"companyCardWrapper__followWrapper\"><!-- --></div></div></div></div>,\n",
       " <div class=\"companyCardWrapper__companyDetails\"><div class=\"companyCardWrapper__companyLogo\"><img alt=\"Tech Mahindra logo\" height=\"50\" loading=\"lazy\" onerror=\"this.onerror=null;this.src='/static/icons/company-placeholder.svg';\" src=\"https://static.ambitionbox.com/assets/v2/images/rs:fit:200:200:false:false/bG9jYWw6Ly8vbG9nb3Mvb3JpZ2luYWxzL3RlY2gtbWFoaW5kcmEuanBn.webp\" width=\"50\"/></div> <div class=\"companyCardWrapper__metaInformation\"><div class=\"companyCardWrapper__header\"><div class=\"companyCardWrapper__companyPrimaryDetails\"><div class=\"companyCardWrapper__companyPrimaryDetailsTopSection\"><a class=\"companyCardWrapper__companyName\" href=\"/overview/tech-mahindra-overview\"><h2 class=\"companyCardWrapper__companyName\" title=\"Tech Mahindra\">\n",
       " \t\t\t\t\t\t\t\t\t\tTech Mahindra\n",
       " \t\t\t\t\t\t\t\t\t</h2></a> <span class=\"companyCardWrapper__companyVerified\"><img height=\"16px\" src=\"https://static.ambitionbox.com/static/icons/verified_blue_tick.svg\" width=\"16px\"/></span> <button arialabel=\"Follow\" class=\"companyCardWrapper__FollowCTA g-btn g-btn--text g-btn--md\" title=\"Follow\" type=\"button\"><!-- --> <span class=\"g-btn__label g-btn__label--md g-btn__label--text g-btn__label--loader\">Follow</span> <!-- --></button></div></div> <div class=\"companyCardWrapper__companyRatingWrapper\"><div class=\"companyCardWrapper__companyRating rating-35\"><i class=\"icon icon-star\"></i> <span class=\"companyCardWrapper__companyRatingValue\">3.7</span></div></div></div> <div class=\"companyCardWrapper__secondaryInformation\"><div class=\"companyCardWrapper__ratingWrapper\"><div class=\"companyCardWrapper__interLinkingWrapper\"><span class=\"companyCardWrapper__interLinking\">\n",
       " \t\t\t\t\t\t\t\t\tIT Services &amp; Consulting | 1 Lakh+ Employees | Public | 37 years old | Pune +252 more\n",
       " \t\t\t\t\t\t\t\t</span></div> <!-- --> <div class=\"companyCardWrapper__ratingComparisonWrapper\"><!-- --> <div><div class=\"companyCardWrapper__ratingHeader\"><img height=\"14px\" src=\"/static/companyListing/ThumbsDown.svg\" width=\"14px\"/> <span class=\"companyCardWrapper__ratingHeader--critical\">Critically Rated For</span></div> <span class=\"companyCardWrapper__ratingValues\">Promotions / Appraisal, Salary &amp; Benefits</span></div></div></div> <div class=\"companyCardWrapper__followWrapper\"><!-- --></div></div></div></div>,\n",
       " <div class=\"companyCardWrapper__companyDetails\"><div class=\"companyCardWrapper__companyLogo\"><img alt=\"Genpact logo\" height=\"50\" loading=\"lazy\" onerror=\"this.onerror=null;this.src='/static/icons/company-placeholder.svg';\" src=\"https://static.ambitionbox.com/assets/v2/images/rs:fit:200:200:false:false/bG9jYWw6Ly8vbG9nb3Mvb3JpZ2luYWxzL2dlbnBhY3QuanBn.webp\" width=\"50\"/></div> <div class=\"companyCardWrapper__metaInformation\"><div class=\"companyCardWrapper__header\"><div class=\"companyCardWrapper__companyPrimaryDetails\"><div class=\"companyCardWrapper__companyPrimaryDetailsTopSection\"><a class=\"companyCardWrapper__companyName companyCardWrapper__companyName--m8\" href=\"/overview/genpact-overview\"><h2 class=\"companyCardWrapper__companyName\" title=\"Genpact\">\n",
       " \t\t\t\t\t\t\t\t\t\tGenpact\n",
       " \t\t\t\t\t\t\t\t\t</h2></a> <!-- --> <button arialabel=\"Follow\" class=\"companyCardWrapper__FollowCTA g-btn g-btn--text g-btn--md\" title=\"Follow\" type=\"button\"><!-- --> <span class=\"g-btn__label g-btn__label--md g-btn__label--text g-btn__label--loader\">Follow</span> <!-- --></button></div></div> <div class=\"companyCardWrapper__companyRatingWrapper\"><div class=\"companyCardWrapper__companyRating rating-35\"><i class=\"icon icon-star\"></i> <span class=\"companyCardWrapper__companyRatingValue\">3.9</span></div></div></div> <div class=\"companyCardWrapper__secondaryInformation\"><div class=\"companyCardWrapper__ratingWrapper\"><div class=\"companyCardWrapper__interLinkingWrapper\"><span class=\"companyCardWrapper__interLinking\">\n",
       " \t\t\t\t\t\t\t\t\tIT Services &amp; Consulting | 1 Lakh+ Employees | Public | 26 years old | New York +98 more\n",
       " \t\t\t\t\t\t\t\t</span></div> <div class=\"companyCardWrapper__awardLeaf\"><div class=\"leaf-list-wrapper noscrollbars-sm\" data-v-384c215c=\"\"><div class=\"award-leaf\" data-v-384c215c=\"\" data-v-789afc02=\"\"><img alt=\"award\" data-v-789afc02=\"\" height=\"24\" src=\"https://static.ambitionbox.com/static/awards/black-theme/golden-leaf-left.png\" width=\"9\"/> <img alt=\"AmbitionBox awards\" class=\"ambox-logo\" data-v-789afc02=\"\" height=\"14\" src=\"https://static.ambitionbox.com/static/awards/black-theme/gold-ambox-logo.svg\" width=\"12\"/> <p data-v-789afc02=\"\">\n",
       " \t\t AmbitionBox Award Winner'22\n",
       " \t</p> <img alt=\"award\" data-v-789afc02=\"\" height=\"24\" src=\"https://static.ambitionbox.com/static/awards/black-theme/golden-leaf-right.png\" width=\"9\"/></div> <!-- --></div></div> <div class=\"companyCardWrapper__ratingComparisonWrapper\"><div><div class=\"companyCardWrapper__ratingHeader\"><img height=\"14px\" src=\"/static/companyListing/ThumbsUp.svg\" width=\"14px\"/> <span class=\"companyCardWrapper__ratingHeader--high\">Highly Rated For</span></div> <span class=\"companyCardWrapper__ratingValues\">Job Security, Skill Development / Learning, Work Life Balance</span></div> <div><div class=\"companyCardWrapper__ratingHeader\"><img height=\"14px\" src=\"/static/companyListing/ThumbsDown.svg\" width=\"14px\"/> <span class=\"companyCardWrapper__ratingHeader--critical\">Critically Rated For</span></div> <span class=\"companyCardWrapper__ratingValues\">Salary &amp; Benefits, Promotions / Appraisal</span></div></div></div> <div class=\"companyCardWrapper__followWrapper\"><!-- --></div></div></div></div>,\n",
       " <div class=\"companyCardWrapper__companyDetails\"><div class=\"companyCardWrapper__companyLogo\"><img alt=\"Axis Bank logo\" height=\"50\" loading=\"lazy\" onerror=\"this.onerror=null;this.src='/static/icons/company-placeholder.svg';\" src=\"https://static.ambitionbox.com/assets/v2/images/rs:fit:200:200:false:false/bG9jYWw6Ly8vbG9nb3Mvb3JpZ2luYWxzL2F4aXMtYmFuay5qcGc.webp\" width=\"50\"/></div> <div class=\"companyCardWrapper__metaInformation\"><div class=\"companyCardWrapper__header\"><div class=\"companyCardWrapper__companyPrimaryDetails\"><div class=\"companyCardWrapper__companyPrimaryDetailsTopSection\"><a class=\"companyCardWrapper__companyName companyCardWrapper__companyName--m8\" href=\"/overview/axis-bank-overview\"><h2 class=\"companyCardWrapper__companyName\" title=\"Axis Bank\">\n",
       " \t\t\t\t\t\t\t\t\t\tAxis Bank\n",
       " \t\t\t\t\t\t\t\t\t</h2></a> <!-- --> <button arialabel=\"Follow\" class=\"companyCardWrapper__FollowCTA g-btn g-btn--text g-btn--md\" title=\"Follow\" type=\"button\"><!-- --> <span class=\"g-btn__label g-btn__label--md g-btn__label--text g-btn__label--loader\">Follow</span> <!-- --></button></div></div> <div class=\"companyCardWrapper__companyRatingWrapper\"><div class=\"companyCardWrapper__companyRating rating-35\"><i class=\"icon icon-star\"></i> <span class=\"companyCardWrapper__companyRatingValue\">3.8</span></div></div></div> <div class=\"companyCardWrapper__secondaryInformation\"><div class=\"companyCardWrapper__ratingWrapper\"><div class=\"companyCardWrapper__interLinkingWrapper\"><span class=\"companyCardWrapper__interLinking\">\n",
       " \t\t\t\t\t\t\t\t\tBanking | 50k-1 Lakh Employees | Public | 30 years old | Mumbai +1263 more\n",
       " \t\t\t\t\t\t\t\t</span></div> <!-- --> <div class=\"companyCardWrapper__ratingComparisonWrapper\"><div><div class=\"companyCardWrapper__ratingHeader\"><img height=\"14px\" src=\"/static/companyListing/ThumbsUp.svg\" width=\"14px\"/> <span class=\"companyCardWrapper__ratingHeader--high\">Highly Rated For</span></div> <span class=\"companyCardWrapper__ratingValues\">Job Security</span></div> <!-- --></div></div> <div class=\"companyCardWrapper__followWrapper\"><!-- --></div></div></div></div>,\n",
       " <div class=\"companyCardWrapper__companyDetails\"><div class=\"companyCardWrapper__companyLogo\"><img alt=\"Concentrix Corporation logo\" height=\"50\" loading=\"lazy\" onerror=\"this.onerror=null;this.src='/static/icons/company-placeholder.svg';\" src=\"https://static.ambitionbox.com/assets/v2/images/rs:fit:200:200:false:false/bG9jYWw6Ly8vbG9nb3Mvb3JpZ2luYWxzL2NvbmNlbnRyaXgtY29ycG9yYXRpb24uanBn.webp\" width=\"50\"/></div> <div class=\"companyCardWrapper__metaInformation\"><div class=\"companyCardWrapper__header\"><div class=\"companyCardWrapper__companyPrimaryDetails\"><div class=\"companyCardWrapper__companyPrimaryDetailsTopSection\"><a class=\"companyCardWrapper__companyName\" href=\"/overview/concentrix-corporation-overview\"><h2 class=\"companyCardWrapper__companyName\" title=\"Concentrix Corporation\">\n",
       " \t\t\t\t\t\t\t\t\t\tConcentrix Corporation\n",
       " \t\t\t\t\t\t\t\t\t</h2></a> <span class=\"companyCardWrapper__companyVerified\"><img height=\"16px\" src=\"https://static.ambitionbox.com/static/icons/verified_blue_tick.svg\" width=\"16px\"/></span> <button arialabel=\"Follow\" class=\"companyCardWrapper__FollowCTA g-btn g-btn--text g-btn--md\" title=\"Follow\" type=\"button\"><!-- --> <span class=\"g-btn__label g-btn__label--md g-btn__label--text g-btn__label--loader\">Follow</span> <!-- --></button></div></div> <div class=\"companyCardWrapper__companyRatingWrapper\"><div class=\"companyCardWrapper__companyRating rating-35\"><i class=\"icon icon-star\"></i> <span class=\"companyCardWrapper__companyRatingValue\">3.9</span></div></div></div> <div class=\"companyCardWrapper__secondaryInformation\"><div class=\"companyCardWrapper__ratingWrapper\"><div class=\"companyCardWrapper__interLinkingWrapper\"><span class=\"companyCardWrapper__interLinking\">\n",
       " \t\t\t\t\t\t\t\t\tBPO | 50k-1 Lakh Employees | Public | 40 years old | Fremont +106 more\n",
       " \t\t\t\t\t\t\t\t</span></div> <!-- --> <div class=\"companyCardWrapper__ratingComparisonWrapper\"><div><div class=\"companyCardWrapper__ratingHeader\"><img height=\"14px\" src=\"/static/companyListing/ThumbsUp.svg\" width=\"14px\"/> <span class=\"companyCardWrapper__ratingHeader--high\">Highly Rated For</span></div> <span class=\"companyCardWrapper__ratingValues\">Job Security, Company Culture</span></div> <div><div class=\"companyCardWrapper__ratingHeader\"><img height=\"14px\" src=\"/static/companyListing/ThumbsDown.svg\" width=\"14px\"/> <span class=\"companyCardWrapper__ratingHeader--critical\">Critically Rated For</span></div> <span class=\"companyCardWrapper__ratingValues\">Promotions / Appraisal, Salary &amp; Benefits</span></div></div></div> <div class=\"companyCardWrapper__followWrapper\"><!-- --></div></div></div></div>,\n",
       " <div class=\"companyCardWrapper__companyDetails\"><div class=\"companyCardWrapper__companyLogo\"><img alt=\"Amazon logo\" height=\"50\" loading=\"lazy\" onerror=\"this.onerror=null;this.src='/static/icons/company-placeholder.svg';\" src=\"https://static.ambitionbox.com/assets/v2/images/rs:fit:200:200:false:false/bG9jYWw6Ly8vbG9nb3Mvb3JpZ2luYWxzL2FtYXpvbi5qcGc.webp\" width=\"50\"/></div> <div class=\"companyCardWrapper__metaInformation\"><div class=\"companyCardWrapper__header\"><div class=\"companyCardWrapper__companyPrimaryDetails\"><div class=\"companyCardWrapper__companyPrimaryDetailsTopSection\"><a class=\"companyCardWrapper__companyName\" href=\"/overview/amazon-overview\"><h2 class=\"companyCardWrapper__companyName\" title=\"Amazon\">\n",
       " \t\t\t\t\t\t\t\t\t\tAmazon\n",
       " \t\t\t\t\t\t\t\t\t</h2></a> <span class=\"companyCardWrapper__companyVerified\"><img height=\"16px\" src=\"https://static.ambitionbox.com/static/icons/verified_blue_tick.svg\" width=\"16px\"/></span> <button arialabel=\"Follow\" class=\"companyCardWrapper__FollowCTA g-btn g-btn--text g-btn--md\" title=\"Follow\" type=\"button\"><!-- --> <span class=\"g-btn__label g-btn__label--md g-btn__label--text g-btn__label--loader\">Follow</span> <!-- --></button></div></div> <div class=\"companyCardWrapper__companyRatingWrapper\"><div class=\"companyCardWrapper__companyRating rating-4\"><i class=\"icon icon-star\"></i> <span class=\"companyCardWrapper__companyRatingValue\">4.1</span></div></div></div> <div class=\"companyCardWrapper__secondaryInformation\"><div class=\"companyCardWrapper__ratingWrapper\"><div class=\"companyCardWrapper__interLinkingWrapper\"><span class=\"companyCardWrapper__interLinking\">\n",
       " \t\t\t\t\t\t\t\t\tInternet | 1 Lakh+ Employees | Public | 29 years old | Seattle +423 more\n",
       " \t\t\t\t\t\t\t\t</span></div> <div class=\"companyCardWrapper__awardLeaf\"><div class=\"leaf-list-wrapper noscrollbars-sm\" data-v-384c215c=\"\"><div class=\"award-leaf\" data-v-384c215c=\"\" data-v-789afc02=\"\"><img alt=\"award\" data-v-789afc02=\"\" height=\"24\" src=\"https://static.ambitionbox.com/static/awards/black-theme/golden-leaf-left.png\" width=\"9\"/> <img alt=\"AmbitionBox awards\" class=\"ambox-logo\" data-v-789afc02=\"\" height=\"14\" src=\"https://static.ambitionbox.com/static/awards/black-theme/gold-ambox-logo.svg\" width=\"12\"/> <p data-v-789afc02=\"\">\n",
       " \t\t AmbitionBox Award Winner'22\n",
       " \t</p> <img alt=\"award\" data-v-789afc02=\"\" height=\"24\" src=\"https://static.ambitionbox.com/static/awards/black-theme/golden-leaf-right.png\" width=\"9\"/></div> <!-- --></div></div> <div class=\"companyCardWrapper__ratingComparisonWrapper\"><div><div class=\"companyCardWrapper__ratingHeader\"><img height=\"14px\" src=\"/static/companyListing/ThumbsUp.svg\" width=\"14px\"/> <span class=\"companyCardWrapper__ratingHeader--high\">Highly Rated For</span></div> <span class=\"companyCardWrapper__ratingValues\">Company Culture, Salary &amp; Benefits, Work Life Balance</span></div> <!-- --></div></div> <div class=\"companyCardWrapper__followWrapper\"><!-- --></div></div></div></div>,\n",
       " <div class=\"companyCardWrapper__companyDetails\"><div class=\"companyCardWrapper__companyLogo\"><img alt=\"Teleperformance logo\" height=\"50\" loading=\"lazy\" onerror=\"this.onerror=null;this.src='/static/icons/company-placeholder.svg';\" src=\"https://static.ambitionbox.com/assets/v2/images/rs:fit:200:200:false:false/bG9jYWw6Ly8vbG9nb3Mvb3JpZ2luYWxzL3RlbGVwZXJmb3JtYW5jZS5qcGc.webp\" width=\"50\"/></div> <div class=\"companyCardWrapper__metaInformation\"><div class=\"companyCardWrapper__header\"><div class=\"companyCardWrapper__companyPrimaryDetails\"><div class=\"companyCardWrapper__companyPrimaryDetailsTopSection\"><a class=\"companyCardWrapper__companyName\" href=\"/overview/teleperformance-overview\"><h2 class=\"companyCardWrapper__companyName\" title=\"Teleperformance\">\n",
       " \t\t\t\t\t\t\t\t\t\tTeleperformance\n",
       " \t\t\t\t\t\t\t\t\t</h2></a> <span class=\"companyCardWrapper__companyVerified\"><img height=\"16px\" src=\"https://static.ambitionbox.com/static/icons/verified_blue_tick.svg\" width=\"16px\"/></span> <button arialabel=\"Follow\" class=\"companyCardWrapper__FollowCTA g-btn g-btn--text g-btn--md\" title=\"Follow\" type=\"button\"><!-- --> <span class=\"g-btn__label g-btn__label--md g-btn__label--text g-btn__label--loader\">Follow</span> <!-- --></button></div></div> <div class=\"companyCardWrapper__companyRatingWrapper\"><div class=\"companyCardWrapper__companyRating rating-35\"><i class=\"icon icon-star\"></i> <span class=\"companyCardWrapper__companyRatingValue\">3.6</span></div></div></div> <div class=\"companyCardWrapper__secondaryInformation\"><div class=\"companyCardWrapper__ratingWrapper\"><div class=\"companyCardWrapper__interLinkingWrapper\"><span class=\"companyCardWrapper__interLinking\">\n",
       " \t\t\t\t\t\t\t\t\tBPO | 50k-1 Lakh Employees | Forbes Global 2000 | 45 years old | Paris +163 more\n",
       " \t\t\t\t\t\t\t\t</span></div> <!-- --> <div class=\"companyCardWrapper__ratingComparisonWrapper\"><!-- --> <div><div class=\"companyCardWrapper__ratingHeader\"><img height=\"14px\" src=\"/static/companyListing/ThumbsDown.svg\" width=\"14px\"/> <span class=\"companyCardWrapper__ratingHeader--critical\">Critically Rated For</span></div> <span class=\"companyCardWrapper__ratingValues\">Promotions / Appraisal, Salary &amp; Benefits, Work Satisfaction</span></div></div></div> <div class=\"companyCardWrapper__followWrapper\"><!-- --></div></div></div></div>,\n",
       " <div class=\"companyCardWrapper__companyDetails\"><div class=\"companyCardWrapper__companyLogo\"><img alt=\"Reliance jio logo\" height=\"50\" loading=\"lazy\" onerror=\"this.onerror=null;this.src='/static/icons/company-placeholder.svg';\" src=\"https://static.ambitionbox.com/assets/v2/images/rs:fit:200:200:false:false/bG9jYWw6Ly8vbG9nb3Mvb3JpZ2luYWxzL3JlbGlhbmNlLWppby5qcGc.webp\" width=\"50\"/></div> <div class=\"companyCardWrapper__metaInformation\"><div class=\"companyCardWrapper__header\"><div class=\"companyCardWrapper__companyPrimaryDetails\"><div class=\"companyCardWrapper__companyPrimaryDetailsTopSection\"><a class=\"companyCardWrapper__companyName\" href=\"/overview/reliance-jio-overview\"><h2 class=\"companyCardWrapper__companyName\" title=\"Reliance Jio\">\n",
       " \t\t\t\t\t\t\t\t\t\tReliance Jio\n",
       " \t\t\t\t\t\t\t\t\t</h2></a> <span class=\"companyCardWrapper__companyVerified\"><img height=\"16px\" src=\"https://static.ambitionbox.com/static/icons/verified_blue_tick.svg\" width=\"16px\"/></span> <button arialabel=\"Follow\" class=\"companyCardWrapper__FollowCTA g-btn g-btn--text g-btn--md\" title=\"Follow\" type=\"button\"><!-- --> <span class=\"g-btn__label g-btn__label--md g-btn__label--text g-btn__label--loader\">Follow</span> <!-- --></button></div></div> <div class=\"companyCardWrapper__companyRatingWrapper\"><div class=\"companyCardWrapper__companyRating rating-35\"><i class=\"icon icon-star\"></i> <span class=\"companyCardWrapper__companyRatingValue\">3.9</span></div></div></div> <div class=\"companyCardWrapper__secondaryInformation\"><div class=\"companyCardWrapper__ratingWrapper\"><div class=\"companyCardWrapper__interLinkingWrapper\"><span class=\"companyCardWrapper__interLinking\">\n",
       " \t\t\t\t\t\t\t\t\tTelecom | 50k-1 Lakh Employees | Public | 16 years old | Navi Mumbai +1127 more\n",
       " \t\t\t\t\t\t\t\t</span></div> <!-- --> <div class=\"companyCardWrapper__ratingComparisonWrapper\"><div><div class=\"companyCardWrapper__ratingHeader\"><img height=\"14px\" src=\"/static/companyListing/ThumbsUp.svg\" width=\"14px\"/> <span class=\"companyCardWrapper__ratingHeader--high\">Highly Rated For</span></div> <span class=\"companyCardWrapper__ratingValues\">Job Security, Skill Development / Learning</span></div> <div><div class=\"companyCardWrapper__ratingHeader\"><img height=\"14px\" src=\"/static/companyListing/ThumbsDown.svg\" width=\"14px\"/> <span class=\"companyCardWrapper__ratingHeader--critical\">Critically Rated For</span></div> <span class=\"companyCardWrapper__ratingValues\">Promotions / Appraisal</span></div></div></div> <div class=\"companyCardWrapper__followWrapper\"><!-- --></div></div></div></div>,\n",
       " <div class=\"companyCardWrapper__companyDetails\"><div class=\"companyCardWrapper__companyLogo\"><img alt=\"IBM logo\" height=\"50\" loading=\"lazy\" onerror=\"this.onerror=null;this.src='/static/icons/company-placeholder.svg';\" src=\"https://static.ambitionbox.com/assets/v2/images/rs:fit:200:200:false:false/bG9jYWw6Ly8vbG9nb3Mvb3JpZ2luYWxzL2libS5qcGc.webp\" width=\"50\"/></div> <div class=\"companyCardWrapper__metaInformation\"><div class=\"companyCardWrapper__header\"><div class=\"companyCardWrapper__companyPrimaryDetails\"><div class=\"companyCardWrapper__companyPrimaryDetailsTopSection\"><a class=\"companyCardWrapper__companyName\" href=\"/overview/ibm-overview\"><h2 class=\"companyCardWrapper__companyName\" title=\"IBM\">\n",
       " \t\t\t\t\t\t\t\t\t\tIBM\n",
       " \t\t\t\t\t\t\t\t\t</h2></a> <span class=\"companyCardWrapper__companyVerified\"><img height=\"16px\" src=\"https://static.ambitionbox.com/static/icons/verified_blue_tick.svg\" width=\"16px\"/></span> <button arialabel=\"Follow\" class=\"companyCardWrapper__FollowCTA g-btn g-btn--text g-btn--md\" title=\"Follow\" type=\"button\"><!-- --> <span class=\"g-btn__label g-btn__label--md g-btn__label--text g-btn__label--loader\">Follow</span> <!-- --></button></div></div> <div class=\"companyCardWrapper__companyRatingWrapper\"><div class=\"companyCardWrapper__companyRating rating-4\"><i class=\"icon icon-star\"></i> <span class=\"companyCardWrapper__companyRatingValue\">4.1</span></div></div></div> <div class=\"companyCardWrapper__secondaryInformation\"><div class=\"companyCardWrapper__ratingWrapper\"><div class=\"companyCardWrapper__interLinkingWrapper\"><span class=\"companyCardWrapper__interLinking\">\n",
       " \t\t\t\t\t\t\t\t\tSoftware Product | 1 Lakh+ Employees | Public | 112 years old | Armonk +142 more\n",
       " \t\t\t\t\t\t\t\t</span></div> <div class=\"companyCardWrapper__awardLeaf\"><div class=\"leaf-list-wrapper noscrollbars-sm\" data-v-384c215c=\"\"><div class=\"award-leaf\" data-v-384c215c=\"\" data-v-789afc02=\"\"><img alt=\"award\" data-v-789afc02=\"\" height=\"24\" src=\"https://static.ambitionbox.com/static/awards/black-theme/golden-leaf-left.png\" width=\"9\"/> <img alt=\"AmbitionBox awards\" class=\"ambox-logo\" data-v-789afc02=\"\" height=\"14\" src=\"https://static.ambitionbox.com/static/awards/black-theme/gold-ambox-logo.svg\" width=\"12\"/> <p data-v-789afc02=\"\">\n",
       " \t\t AmbitionBox Award Winner'22\n",
       " \t</p> <img alt=\"award\" data-v-789afc02=\"\" height=\"24\" src=\"https://static.ambitionbox.com/static/awards/black-theme/golden-leaf-right.png\" width=\"9\"/></div> <!-- --></div></div> <div class=\"companyCardWrapper__ratingComparisonWrapper\"><div><div class=\"companyCardWrapper__ratingHeader\"><img height=\"14px\" src=\"/static/companyListing/ThumbsUp.svg\" width=\"14px\"/> <span class=\"companyCardWrapper__ratingHeader--high\">Highly Rated For</span></div> <span class=\"companyCardWrapper__ratingValues\">Work Life Balance, Job Security, Skill Development / Learning</span></div> <div><div class=\"companyCardWrapper__ratingHeader\"><img height=\"14px\" src=\"/static/companyListing/ThumbsDown.svg\" width=\"14px\"/> <span class=\"companyCardWrapper__ratingHeader--critical\">Critically Rated For</span></div> <span class=\"companyCardWrapper__ratingValues\">Promotions / Appraisal</span></div></div></div> <div class=\"companyCardWrapper__followWrapper\"><!-- --></div></div></div></div>,\n",
       " <div class=\"companyCardWrapper__companyDetails\"><div class=\"companyCardWrapper__companyLogo\"><img alt=\"Larsen and Toubro logo\" height=\"50\" loading=\"lazy\" onerror=\"this.onerror=null;this.src='/static/icons/company-placeholder.svg';\" src=\"https://static.ambitionbox.com/assets/v2/images/rs:fit:200:200:false:false/bG9jYWw6Ly8vbG9nb3Mvb3JpZ2luYWxzL2wtYW5kLXQuanBn.webp\" width=\"50\"/></div> <div class=\"companyCardWrapper__metaInformation\"><div class=\"companyCardWrapper__header\"><div class=\"companyCardWrapper__companyPrimaryDetails\"><div class=\"companyCardWrapper__companyPrimaryDetailsTopSection\"><a class=\"companyCardWrapper__companyName\" href=\"/overview/l-and-t-overview\"><h2 class=\"companyCardWrapper__companyName\" title=\"Larsen &amp; Toubro Limited\">\n",
       " \t\t\t\t\t\t\t\t\t\tLarsen &amp; Toubro Limited\n",
       " \t\t\t\t\t\t\t\t\t</h2></a> <span class=\"companyCardWrapper__companyVerified\"><img height=\"16px\" src=\"https://static.ambitionbox.com/static/icons/verified_blue_tick.svg\" width=\"16px\"/></span> <button arialabel=\"Follow\" class=\"companyCardWrapper__FollowCTA g-btn g-btn--text g-btn--md\" title=\"Follow\" type=\"button\"><!-- --> <span class=\"g-btn__label g-btn__label--md g-btn__label--text g-btn__label--loader\">Follow</span> <!-- --></button></div></div> <div class=\"companyCardWrapper__companyRatingWrapper\"><div class=\"companyCardWrapper__companyRating rating-4\"><i class=\"icon icon-star\"></i> <span class=\"companyCardWrapper__companyRatingValue\">4.0</span></div></div></div> <div class=\"companyCardWrapper__secondaryInformation\"><div class=\"companyCardWrapper__ratingWrapper\"><div class=\"companyCardWrapper__interLinkingWrapper\"><span class=\"companyCardWrapper__interLinking\">\n",
       " \t\t\t\t\t\t\t\t\tEngineering &amp; Construction | 10k-50k Employees | Public | 85 years old | Mumbai +614 more\n",
       " \t\t\t\t\t\t\t\t</span></div> <!-- --> <div class=\"companyCardWrapper__ratingComparisonWrapper\"><div><div class=\"companyCardWrapper__ratingHeader\"><img height=\"14px\" src=\"/static/companyListing/ThumbsUp.svg\" width=\"14px\"/> <span class=\"companyCardWrapper__ratingHeader--high\">Highly Rated For</span></div> <span class=\"companyCardWrapper__ratingValues\">Job Security, Skill Development / Learning</span></div> <!-- --></div></div> <div class=\"companyCardWrapper__followWrapper\"><!-- --></div></div></div></div>,\n",
       " <div class=\"companyCardWrapper__companyDetails\"><div class=\"companyCardWrapper__companyLogo\"><img alt=\"Reliance Retail Limited logo\" height=\"50\" loading=\"lazy\" onerror=\"this.onerror=null;this.src='/static/icons/company-placeholder.svg';\" src=\"https://static.ambitionbox.com/assets/v2/images/rs:fit:200:200:false:false/bG9jYWw6Ly8vbG9nb3Mvb3JpZ2luYWxzL3JlbGlhbmNlLXJldGFpbC1saW1pdGVkLmpwZw.webp\" width=\"50\"/></div> <div class=\"companyCardWrapper__metaInformation\"><div class=\"companyCardWrapper__header\"><div class=\"companyCardWrapper__companyPrimaryDetails\"><div class=\"companyCardWrapper__companyPrimaryDetailsTopSection\"><a class=\"companyCardWrapper__companyName\" href=\"/overview/reliance-retail-limited-overview\"><h2 class=\"companyCardWrapper__companyName\" title=\"Reliance Retail\">\n",
       " \t\t\t\t\t\t\t\t\t\tReliance Retail\n",
       " \t\t\t\t\t\t\t\t\t</h2></a> <span class=\"companyCardWrapper__companyVerified\"><img height=\"16px\" src=\"https://static.ambitionbox.com/static/icons/verified_blue_tick.svg\" width=\"16px\"/></span> <button arialabel=\"Follow\" class=\"companyCardWrapper__FollowCTA g-btn g-btn--text g-btn--md\" title=\"Follow\" type=\"button\"><!-- --> <span class=\"g-btn__label g-btn__label--md g-btn__label--text g-btn__label--loader\">Follow</span> <!-- --></button></div></div> <div class=\"companyCardWrapper__companyRatingWrapper\"><div class=\"companyCardWrapper__companyRating rating-35\"><i class=\"icon icon-star\"></i> <span class=\"companyCardWrapper__companyRatingValue\">3.9</span></div></div></div> <div class=\"companyCardWrapper__secondaryInformation\"><div class=\"companyCardWrapper__ratingWrapper\"><div class=\"companyCardWrapper__interLinkingWrapper\"><span class=\"companyCardWrapper__interLinking\">\n",
       " \t\t\t\t\t\t\t\t\tRetail | 1 Lakh+ Employees | 17 years old | Navi Mumbai +954 more\n",
       " \t\t\t\t\t\t\t\t</span></div> <div class=\"companyCardWrapper__awardLeaf\"><div class=\"leaf-list-wrapper noscrollbars-sm\" data-v-384c215c=\"\"><div class=\"award-leaf\" data-v-384c215c=\"\" data-v-789afc02=\"\"><img alt=\"award\" data-v-789afc02=\"\" height=\"24\" src=\"https://static.ambitionbox.com/static/awards/black-theme/golden-leaf-left.png\" width=\"9\"/> <img alt=\"AmbitionBox awards\" class=\"ambox-logo\" data-v-789afc02=\"\" height=\"14\" src=\"https://static.ambitionbox.com/static/awards/black-theme/gold-ambox-logo.svg\" width=\"12\"/> <p data-v-789afc02=\"\">\n",
       " \t\t AmbitionBox Award Winner'22\n",
       " \t</p> <img alt=\"award\" data-v-789afc02=\"\" height=\"24\" src=\"https://static.ambitionbox.com/static/awards/black-theme/golden-leaf-right.png\" width=\"9\"/></div> <!-- --></div></div> <div class=\"companyCardWrapper__ratingComparisonWrapper\"><div><div class=\"companyCardWrapper__ratingHeader\"><img height=\"14px\" src=\"/static/companyListing/ThumbsUp.svg\" width=\"14px\"/> <span class=\"companyCardWrapper__ratingHeader--high\">Highly Rated For</span></div> <span class=\"companyCardWrapper__ratingValues\">Skill Development / Learning, Job Security</span></div> <div><div class=\"companyCardWrapper__ratingHeader\"><img height=\"14px\" src=\"/static/companyListing/ThumbsDown.svg\" width=\"14px\"/> <span class=\"companyCardWrapper__ratingHeader--critical\">Critically Rated For</span></div> <span class=\"companyCardWrapper__ratingValues\">Promotions / Appraisal</span></div></div></div> <div class=\"companyCardWrapper__followWrapper\"><!-- --></div></div></div></div>,\n",
       " <div class=\"companyCardWrapper__companyDetails\"><div class=\"companyCardWrapper__companyLogo\"><img alt=\"HDB Financial Services logo\" height=\"50\" loading=\"lazy\" onerror=\"this.onerror=null;this.src='/static/icons/company-placeholder.svg';\" src=\"https://static.ambitionbox.com/assets/v2/images/rs:fit:200:200:false:false/bG9jYWw6Ly8vbG9nb3Mvb3JpZ2luYWxzL2hkYi1maW5hbmNpYWwtc2VydmljZXMuanBn.webp\" width=\"50\"/></div> <div class=\"companyCardWrapper__metaInformation companyCardWrapper__metaInformation--border0\"><div class=\"companyCardWrapper__header\"><div class=\"companyCardWrapper__companyPrimaryDetails\"><div class=\"companyCardWrapper__companyPrimaryDetailsTopSection\"><a class=\"companyCardWrapper__companyName companyCardWrapper__companyName--m8\" href=\"/overview/hdb-financial-services-overview\"><h2 class=\"companyCardWrapper__companyName\" title=\"HDB Financial Services\">\n",
       " \t\t\t\t\t\t\t\t\t\tHDB Financial Services\n",
       " \t\t\t\t\t\t\t\t\t</h2></a> <!-- --> <button arialabel=\"Follow\" class=\"companyCardWrapper__FollowCTA g-btn g-btn--text g-btn--md\" title=\"Follow\" type=\"button\"><!-- --> <span class=\"g-btn__label g-btn__label--md g-btn__label--text g-btn__label--loader\">Follow</span> <!-- --></button></div></div> <div class=\"companyCardWrapper__companyRatingWrapper\"><div class=\"companyCardWrapper__companyRating rating-4\"><i class=\"icon icon-star\"></i> <span class=\"companyCardWrapper__companyRatingValue\">4.0</span></div></div></div> <div class=\"companyCardWrapper__secondaryInformation\"><div class=\"companyCardWrapper__ratingWrapper\"><div class=\"companyCardWrapper__interLinkingWrapper\"><span class=\"companyCardWrapper__interLinking\">\n",
       " \t\t\t\t\t\t\t\t\tNBFC | 1 Lakh+ Employees | 16 years old | Ahmedabad +923 more\n",
       " \t\t\t\t\t\t\t\t</span></div> <div class=\"companyCardWrapper__awardLeaf\"><div class=\"leaf-list-wrapper noscrollbars-sm\" data-v-384c215c=\"\"><div class=\"award-leaf\" data-v-384c215c=\"\" data-v-789afc02=\"\"><img alt=\"award\" data-v-789afc02=\"\" height=\"24\" src=\"https://static.ambitionbox.com/static/awards/black-theme/golden-leaf-left.png\" width=\"9\"/> <img alt=\"AmbitionBox awards\" class=\"ambox-logo\" data-v-789afc02=\"\" height=\"14\" src=\"https://static.ambitionbox.com/static/awards/black-theme/gold-ambox-logo.svg\" width=\"12\"/> <p data-v-789afc02=\"\">\n",
       " \t\t AmbitionBox Award Winner'22\n",
       " \t</p> <img alt=\"award\" data-v-789afc02=\"\" height=\"24\" src=\"https://static.ambitionbox.com/static/awards/black-theme/golden-leaf-right.png\" width=\"9\"/></div> <!-- --></div></div> <div class=\"companyCardWrapper__ratingComparisonWrapper\"><div><div class=\"companyCardWrapper__ratingHeader\"><img height=\"14px\" src=\"/static/companyListing/ThumbsUp.svg\" width=\"14px\"/> <span class=\"companyCardWrapper__ratingHeader--high\">Highly Rated For</span></div> <span class=\"companyCardWrapper__ratingValues\">Skill Development / Learning, Job Security, Company Culture</span></div> <div><div class=\"companyCardWrapper__ratingHeader\"><img height=\"14px\" src=\"/static/companyListing/ThumbsDown.svg\" width=\"14px\"/> <span class=\"companyCardWrapper__ratingHeader--critical\">Critically Rated For</span></div> <span class=\"companyCardWrapper__ratingValues\">Promotions / Appraisal</span></div></div></div> <div class=\"companyCardWrapper__followWrapper\"><!-- --></div></div></div></div>]"
      ]
     },
     "execution_count": 20,
     "metadata": {},
     "output_type": "execute_result"
    }
   ],
   "source": [
    "soup.find_all('div',class_=\"companyCardWrapper__companyDetails\")"
   ]
  },
  {
   "cell_type": "code",
   "execution_count": 37,
   "id": "3bc02546",
   "metadata": {},
   "outputs": [],
   "source": [
    "data=pd.DataFrame({\"Company_name\":name,'rating':rating,'reviews':reviews,'interview':interview,'jobs':jobs_posted})"
   ]
  },
  {
   "cell_type": "code",
   "execution_count": 38,
   "id": "e8afc434",
   "metadata": {},
   "outputs": [
    {
     "data": {
      "text/html": [
       "<div>\n",
       "<style scoped>\n",
       "    .dataframe tbody tr th:only-of-type {\n",
       "        vertical-align: middle;\n",
       "    }\n",
       "\n",
       "    .dataframe tbody tr th {\n",
       "        vertical-align: top;\n",
       "    }\n",
       "\n",
       "    .dataframe thead th {\n",
       "        text-align: right;\n",
       "    }\n",
       "</style>\n",
       "<table border=\"1\" class=\"dataframe\">\n",
       "  <thead>\n",
       "    <tr style=\"text-align: right;\">\n",
       "      <th></th>\n",
       "      <th>Company_name</th>\n",
       "      <th>rating</th>\n",
       "      <th>reviews</th>\n",
       "      <th>interview</th>\n",
       "      <th>jobs</th>\n",
       "    </tr>\n",
       "  </thead>\n",
       "  <tbody>\n",
       "    <tr>\n",
       "      <th>0</th>\n",
       "      <td>TCS</td>\n",
       "      <td>3.8</td>\n",
       "      <td>70k</td>\n",
       "      <td>5.9k</td>\n",
       "      <td>582</td>\n",
       "    </tr>\n",
       "    <tr>\n",
       "      <th>1</th>\n",
       "      <td>Accenture</td>\n",
       "      <td>4.0</td>\n",
       "      <td>44.4k</td>\n",
       "      <td>4.1k</td>\n",
       "      <td>8.8k</td>\n",
       "    </tr>\n",
       "    <tr>\n",
       "      <th>2</th>\n",
       "      <td>Cognizant</td>\n",
       "      <td>3.9</td>\n",
       "      <td>39.9k</td>\n",
       "      <td>3.5k</td>\n",
       "      <td>459</td>\n",
       "    </tr>\n",
       "    <tr>\n",
       "      <th>3</th>\n",
       "      <td>Wipro</td>\n",
       "      <td>3.8</td>\n",
       "      <td>37.4k</td>\n",
       "      <td>3.4k</td>\n",
       "      <td>316</td>\n",
       "    </tr>\n",
       "    <tr>\n",
       "      <th>4</th>\n",
       "      <td>HDFC Bank</td>\n",
       "      <td>3.9</td>\n",
       "      <td>32.2k</td>\n",
       "      <td>1.5k</td>\n",
       "      <td>411</td>\n",
       "    </tr>\n",
       "    <tr>\n",
       "      <th>5</th>\n",
       "      <td>ICICI Bank</td>\n",
       "      <td>4.0</td>\n",
       "      <td>32k</td>\n",
       "      <td>1.8k</td>\n",
       "      <td>212</td>\n",
       "    </tr>\n",
       "    <tr>\n",
       "      <th>6</th>\n",
       "      <td>Infosys</td>\n",
       "      <td>3.9</td>\n",
       "      <td>30.3k</td>\n",
       "      <td>4.6k</td>\n",
       "      <td>869</td>\n",
       "    </tr>\n",
       "    <tr>\n",
       "      <th>7</th>\n",
       "      <td>Capgemini</td>\n",
       "      <td>3.8</td>\n",
       "      <td>28.2k</td>\n",
       "      <td>2.3k</td>\n",
       "      <td>900</td>\n",
       "    </tr>\n",
       "    <tr>\n",
       "      <th>8</th>\n",
       "      <td>HCLTech</td>\n",
       "      <td>3.7</td>\n",
       "      <td>27k</td>\n",
       "      <td>2.4k</td>\n",
       "      <td>596</td>\n",
       "    </tr>\n",
       "    <tr>\n",
       "      <th>9</th>\n",
       "      <td>Tech Mahindra</td>\n",
       "      <td>3.7</td>\n",
       "      <td>26.3k</td>\n",
       "      <td>2.3k</td>\n",
       "      <td>1.1k</td>\n",
       "    </tr>\n",
       "    <tr>\n",
       "      <th>10</th>\n",
       "      <td>Genpact</td>\n",
       "      <td>3.9</td>\n",
       "      <td>25.1k</td>\n",
       "      <td>1.9k</td>\n",
       "      <td>1.1k</td>\n",
       "    </tr>\n",
       "    <tr>\n",
       "      <th>11</th>\n",
       "      <td>Axis Bank</td>\n",
       "      <td>3.8</td>\n",
       "      <td>21k</td>\n",
       "      <td>1k</td>\n",
       "      <td>316</td>\n",
       "    </tr>\n",
       "    <tr>\n",
       "      <th>12</th>\n",
       "      <td>Concentrix Corporation</td>\n",
       "      <td>3.9</td>\n",
       "      <td>20.8k</td>\n",
       "      <td>1k</td>\n",
       "      <td>112</td>\n",
       "    </tr>\n",
       "    <tr>\n",
       "      <th>13</th>\n",
       "      <td>Amazon</td>\n",
       "      <td>4.1</td>\n",
       "      <td>20k</td>\n",
       "      <td>3.3k</td>\n",
       "      <td>682</td>\n",
       "    </tr>\n",
       "    <tr>\n",
       "      <th>14</th>\n",
       "      <td>Teleperformance</td>\n",
       "      <td>3.6</td>\n",
       "      <td>19.8k</td>\n",
       "      <td>1.1k</td>\n",
       "      <td>268</td>\n",
       "    </tr>\n",
       "    <tr>\n",
       "      <th>15</th>\n",
       "      <td>Reliance Jio</td>\n",
       "      <td>3.9</td>\n",
       "      <td>19.3k</td>\n",
       "      <td>1.1k</td>\n",
       "      <td>151</td>\n",
       "    </tr>\n",
       "    <tr>\n",
       "      <th>16</th>\n",
       "      <td>IBM</td>\n",
       "      <td>4.1</td>\n",
       "      <td>19k</td>\n",
       "      <td>1.4k</td>\n",
       "      <td>4.8k</td>\n",
       "    </tr>\n",
       "    <tr>\n",
       "      <th>17</th>\n",
       "      <td>Larsen &amp; Toubro Limited</td>\n",
       "      <td>4.0</td>\n",
       "      <td>17.9k</td>\n",
       "      <td>1k</td>\n",
       "      <td>108</td>\n",
       "    </tr>\n",
       "    <tr>\n",
       "      <th>18</th>\n",
       "      <td>Reliance Retail</td>\n",
       "      <td>3.9</td>\n",
       "      <td>17.6k</td>\n",
       "      <td>1.1k</td>\n",
       "      <td>247</td>\n",
       "    </tr>\n",
       "    <tr>\n",
       "      <th>19</th>\n",
       "      <td>HDB Financial Services</td>\n",
       "      <td>4.0</td>\n",
       "      <td>17.2k</td>\n",
       "      <td>553</td>\n",
       "      <td>58</td>\n",
       "    </tr>\n",
       "  </tbody>\n",
       "</table>\n",
       "</div>"
      ],
      "text/plain": [
       "               Company_name rating reviews interview  jobs\n",
       "0                       TCS    3.8     70k      5.9k   582\n",
       "1                 Accenture    4.0   44.4k      4.1k  8.8k\n",
       "2                 Cognizant    3.9   39.9k      3.5k   459\n",
       "3                     Wipro    3.8   37.4k      3.4k   316\n",
       "4                 HDFC Bank    3.9   32.2k      1.5k   411\n",
       "5                ICICI Bank    4.0     32k      1.8k   212\n",
       "6                   Infosys    3.9   30.3k      4.6k   869\n",
       "7                 Capgemini    3.8   28.2k      2.3k   900\n",
       "8                   HCLTech    3.7     27k      2.4k   596\n",
       "9             Tech Mahindra    3.7   26.3k      2.3k  1.1k\n",
       "10                  Genpact    3.9   25.1k      1.9k  1.1k\n",
       "11                Axis Bank    3.8     21k        1k   316\n",
       "12   Concentrix Corporation    3.9   20.8k        1k   112\n",
       "13                   Amazon    4.1     20k      3.3k   682\n",
       "14          Teleperformance    3.6   19.8k      1.1k   268\n",
       "15             Reliance Jio    3.9   19.3k      1.1k   151\n",
       "16                      IBM    4.1     19k      1.4k  4.8k\n",
       "17  Larsen & Toubro Limited    4.0   17.9k        1k   108\n",
       "18          Reliance Retail    3.9   17.6k      1.1k   247\n",
       "19   HDB Financial Services    4.0   17.2k       553    58"
      ]
     },
     "execution_count": 38,
     "metadata": {},
     "output_type": "execute_result"
    }
   ],
   "source": [
    "data"
   ]
  },
  {
   "cell_type": "code",
   "execution_count": null,
   "id": "731fa09a",
   "metadata": {},
   "outputs": [],
   "source": []
  }
 ],
 "metadata": {
  "kernelspec": {
   "display_name": "Python 3 (ipykernel)",
   "language": "python",
   "name": "python3"
  },
  "language_info": {
   "codemirror_mode": {
    "name": "ipython",
    "version": 3
   },
   "file_extension": ".py",
   "mimetype": "text/x-python",
   "name": "python",
   "nbconvert_exporter": "python",
   "pygments_lexer": "ipython3",
   "version": "3.11.5"
  }
 },
 "nbformat": 4,
 "nbformat_minor": 5
}
